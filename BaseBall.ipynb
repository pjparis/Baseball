{
 "cells": [
  {
   "cell_type": "code",
   "execution_count": 1,
   "metadata": {},
   "outputs": [],
   "source": [
    "import numpy as np\n",
    "import pandas as pd"
   ]
  },
  {
   "cell_type": "code",
   "execution_count": 84,
   "metadata": {},
   "outputs": [],
   "source": [
    "pitches = {'Home Run':(1,1),\n",
    "              'Strike':(2,1),\n",
    "              'Ball':(3,1),\n",
    "              'Strike':(4,1),\n",
    "              'Foul Ball':(5,1),\n",
    "              'Strike':(6,1),\n",
    "              'Double':(2,2),\n",
    "              'Ball':(3,2),\n",
    "              'Foul Ball':(4,2),\n",
    "              'Strike':(5,2),\n",
    "              'Strike':(6,2),\n",
    "              'Single':(3,3),\n",
    "              'Fielding Error':(4,3),\n",
    "              'Strike':(5,3),\n",
    "              'Ball':(6,3),\n",
    "              'Hit by Pitch':(4,4),\n",
    "              'Foul Ball':(5,4),\n",
    "              'Single':(5,5),\n",
    "              'Strike':(6,4),\n",
    "              'Ball':(6,5),\n",
    "              'Triple':(6,6)\n",
    "             }"
   ]
  },
  {
   "cell_type": "code",
   "execution_count": 88,
   "metadata": {},
   "outputs": [],
   "source": [
    "class Game():\n",
    "    def __init__(self, home, visitors):\n",
    "        self.home_team = home\n",
    "        self.visiting_team = visitors\n",
    "        self.inning = 1\n",
    "        self.inning_half = 'top'\n",
    "        self.balls = 0\n",
    "        self.strikes = 0\n",
    "        self.outs = 0\n",
    "        \n",
    "    def IncrementInning(self):\n",
    "        self.inning = self.inning + 1\n",
    "        \n",
    "    def IncrementBalls(self):\n",
    "        self.balls = self.balls + 1\n",
    "        \n",
    "    def IncrementStrikes(self):\n",
    "        self.strikes = self.strikes + 1\n",
    "        \n",
    "    def IncrementOuts(self):\n",
    "        self.outs = self.outs + 1\n",
    "        \n",
    "    def ResetInningStats(self):\n",
    "        self.inning = self.balls = self.strikes = self.outs = 0\n",
    "        \n",
    "    def GetGameState(self):\n",
    "        return(self.inning, self.balls, self.strikes, self.outs)\n",
    "    \n",
    "    def HandleHit(self, roll):\n",
    "        if(roll == 1):\n",
    "            return('HomeRun!')\n",
    "        if(roll == 2):\n",
    "            return('double')\n",
    "        if(roll == 3) or (roll == 5):\n",
    "            return('single')\n",
    "        if(roll == 4):\n",
    "            return('Hit by pitched ball')\n",
    "        if(roll == 6):\n",
    "            return('triple')\n",
    "    \n",
    "    def HandleNoHit(self, r1, r2):\n",
    "        return('Ball or Strike Thrown?')\n",
    "    \n",
    "    def HandlePitch(self, p1, p2):\n",
    "        print([k for k,v in pitches.items() if (v[0] == p1) and (v[1] == p2)])"
   ]
  },
  {
   "cell_type": "code",
   "execution_count": 47,
   "metadata": {},
   "outputs": [],
   "source": [
    "class Team():\n",
    "    def __init__(self, name, home_visit):\n",
    "        self.team_name = name\n",
    "        self.team_home_visit = home_visit\n",
    "        self.runs = 0\n",
    "        self.hits = 0\n",
    "        self.errors = 0"
   ]
  },
  {
   "cell_type": "code",
   "execution_count": 85,
   "metadata": {},
   "outputs": [],
   "source": [
    "# initialize today's game:\n",
    "home_team = 'Dimes'\n",
    "visiting_team = 'Pennies'\n",
    "\n",
    "todays_game = Game(home_team, visiting_team)\n",
    "Dimes = Team(home_team, 'home')\n",
    "Pennies = Team(visiting_team, 'visitors')"
   ]
  },
  {
   "cell_type": "code",
   "execution_count": 90,
   "metadata": {},
   "outputs": [
    {
     "name": "stdout",
     "output_type": "stream",
     "text": [
      "5 2\n",
      "[]\n",
      "None\n"
     ]
    }
   ],
   "source": [
    "# Play today's game...\n",
    "\n",
    "def Pitch():\n",
    "    p1, p2 = np.random.randint(low=1, high=6, size=2)\n",
    "    print(p1, p2)\n",
    "    result = todays_game.HandlePitch(p1, p2)\n",
    "    return(result)\n",
    "\n",
    "# Main\n",
    "results = Pitch()\n",
    "print(results)"
   ]
  },
  {
   "cell_type": "code",
   "execution_count": null,
   "metadata": {},
   "outputs": [],
   "source": []
  },
  {
   "cell_type": "code",
   "execution_count": null,
   "metadata": {},
   "outputs": [],
   "source": [
    "    if(p1 == p2):\n",
    "        result = todays_game.HandleHit(p1)\n",
    "    else:\n",
    "        result = todays_game.HandleNoHit(p1, p2)\n",
    "        "
   ]
  }
 ],
 "metadata": {
  "kernelspec": {
   "display_name": "Python 3",
   "language": "python",
   "name": "python3"
  },
  "language_info": {
   "codemirror_mode": {
    "name": "ipython",
    "version": 3
   },
   "file_extension": ".py",
   "mimetype": "text/x-python",
   "name": "python",
   "nbconvert_exporter": "python",
   "pygments_lexer": "ipython3",
   "version": "3.7.3"
  }
 },
 "nbformat": 4,
 "nbformat_minor": 2
}
